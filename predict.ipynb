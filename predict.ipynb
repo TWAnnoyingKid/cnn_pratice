{
 "cells": [
  {
   "cell_type": "code",
   "execution_count": 1,
   "metadata": {},
   "outputs": [],
   "source": [
    "import cv2\n",
    "import numpy as np\n",
    "import torch\n",
    "from torchvision import datasets, transforms #提供資料集 演算法\n",
    "from pathlib import Path\n",
    "from PIL import Image"
   ]
  },
  {
   "cell_type": "code",
   "execution_count": 2,
   "metadata": {},
   "outputs": [
    {
     "name": "stdout",
     "output_type": "stream",
     "text": [
      "Model Imported\n",
      "{0: 'kanaA', 1: 'kanaBA', 2: 'kanaCHI', 3: 'kanaDA', 4: 'kanaE', 5: 'kanaFU', 6: 'kanaHA', 7: 'kanaHE', 8: 'kanaHI', 9: 'kanaHO', 10: 'kanaI', 11: 'kanaJI', 12: 'kanaKA', 13: 'kanaKE', 14: 'kanaKI', 15: 'kanaKO', 16: 'kanaKU', 17: 'kanaMA', 18: 'kanaME', 19: 'kanaMI', 20: 'kanaMO', 21: 'kanaMU', 22: 'kanaN', 23: 'kanaNA', 24: 'kanaNE', 25: 'kanaNI', 26: 'kanaNO', 27: 'kanaNU', 28: 'kanaO', 29: 'kanaPI', 30: 'kanaRA', 31: 'kanaRE', 32: 'kanaRI', 33: 'kanaRO', 34: 'kanaRU', 35: 'kanaSA', 36: 'kanaSE', 37: 'kanaSHI', 38: 'kanaSO', 39: 'kanaSU', 40: 'kanaTA', 41: 'kanaTE', 42: 'kanaTO', 43: 'kanaTSU', 44: 'kanaU', 45: 'kanaWA', 46: 'kanaWO', 47: 'kanaYA', 48: 'kanaYO', 49: 'kanaYU'}\n"
     ]
    }
   ],
   "source": [
    "device = torch.device(\"cuda\" if torch.cuda.is_available() else \"cpu\")\n",
    "model_path = Path('./models/model.pt') \n",
    "model = torch.jit.load(model_path).to(device)\n",
    "if model:\n",
    "    print(\"Model Imported\")\n",
    "    # print(model)\n",
    "\n",
    "dataset = datasets.ImageFolder(root='./hiragana-dataset-master/process') #使用ImageFolder加載資料集\n",
    "label_dict = dataset.class_to_idx #生出 label:index 的字典\n",
    "reverse_label_dict = {v: k for k, v in label_dict.items()} #原始字典 label_dict 的key值對交換後生成一個新的字典 reverse_label_dict\n",
    "print(reverse_label_dict)\n",
    "\n",
    "transform = transforms.Compose([\n",
    "    transforms.Grayscale(num_output_channels=1),\n",
    "    transforms.Resize((64,64)), #\n",
    "    transforms.ToTensor(),  # shape H，W，C —> C，H，W\n",
    "    transforms.Normalize((0.1307,), (0.3081,)) # 將資料壓縮至一個範圍，例如：-1,1，這樣跑的效率會比較高\n",
    "])"
   ]
  },
  {
   "cell_type": "code",
   "execution_count": 3,
   "metadata": {},
   "outputs": [],
   "source": [
    "cap = cv2.VideoCapture(0)\n",
    "if not cap.isOpened():\n",
    "    print(\"Cannot open camera\")\n",
    "    exit()\n",
    "while True:\n",
    "    ret, img = cap.read()\n",
    "    result = \"None\"\n",
    "    if not ret:\n",
    "        print(\"Cannot receive frame\")\n",
    "        break\n",
    "    img = cv2.resize(img,(720,480))                # 改變影像尺寸，加快處理效率\n",
    "    x, y, w, h = 350, 200, 110, 110                # 定義擷取的區域位置和大小\n",
    "    img_word_pred = img.copy()                     # 複製一個影像作為辨識使用\n",
    "    img_word_pred = img_word_pred[y:y+h, x:x+w]    # 擷取辨識的區域\n",
    "    \n",
    "    ### 將辨識圖片放置在右上方 ###\n",
    "    img_word = cv2.cvtColor(img_word_pred, cv2.COLOR_BGR2GRAY)\n",
    "    output = cv2.cvtColor(img_word, cv2.COLOR_GRAY2BGR)\n",
    "    img[0:110, 610:720] = output\n",
    "    \n",
    "    ### 辨識圖片 ###\n",
    "    img_word_pred = Image.fromarray(cv2.cvtColor(img_word_pred, cv2.COLOR_BGR2GRAY)) #圖片轉成JIL img\n",
    "    img_word_pred = transform(img_word_pred).to(device)    #圖片前處理\n",
    "    # print(img_word_pred.shape) #torch.Size([1, 64, 64])\n",
    "    pred = model(img_word_pred.unsqueeze(0))\n",
    "    _, pred_label = pred.max(1)\n",
    "    result = reverse_label_dict.get(int(pred_label))\n",
    "\n",
    "    org = (x-20,y-30)                       # 印出的文字位置\n",
    "    fontFace = cv2.FONT_HERSHEY_SIMPLEX     # 印出的文字字體\n",
    "    fontScale = 2                           # 印出的文字大小\n",
    "    color = (0,0,255)                       # 印出的文字顏色\n",
    "    thickness = 2                           # 印出的文字邊框粗細\n",
    "    lineType = cv2.LINE_AA                  # 印出的文字邊框樣式\n",
    "    cv2.putText(img, result, org, fontFace, fontScale, color, thickness, lineType) # 印出文字\n",
    "    \n",
    "    cv2.rectangle(img,(x,y),(x+w,y+h),(0,0,255),3)  # 標記辨識的區域\n",
    "    cv2.imshow('WordPred', img)\n",
    "    if cv2.waitKey(50) == ord('q'):\n",
    "        break     # 按下 q 鍵停止\n",
    "cap.release()\n",
    "cv2.destroyAllWindows()"
   ]
  }
 ],
 "metadata": {
  "kernelspec": {
   "display_name": "mainEnv",
   "language": "python",
   "name": "python3"
  },
  "language_info": {
   "codemirror_mode": {
    "name": "ipython",
    "version": 3
   },
   "file_extension": ".py",
   "mimetype": "text/x-python",
   "name": "python",
   "nbconvert_exporter": "python",
   "pygments_lexer": "ipython3",
   "version": "3.9.19"
  }
 },
 "nbformat": 4,
 "nbformat_minor": 2
}
