{
 "cells": [
  {
   "cell_type": "code",
   "execution_count": 1,
   "metadata": {},
   "outputs": [],
   "source": [
    "import random\n",
    "import numpy as np\n",
    "import torch\n",
    "import torch.nn as nn #network 函式\n",
    "import torch.nn.functional as F #一些方法\n",
    "import torch.optim as optim #優化方法\n",
    "from torchvision import datasets, transforms #提供資料集 演算法\n",
    "import matplotlib.pyplot as plt #圖表\n",
    "from PIL import Image, ImageFilter, ImageOps"
   ]
  },
  {
   "cell_type": "code",
   "execution_count": 2,
   "metadata": {},
   "outputs": [],
   "source": [
    "### 資料前處理 ###\n",
    "import os\n",
    "import shutil\n",
    "\n",
    "data_path = os.listdir('C:/Users/bymin/OneDrive/桌面/pytorch/hiragana-dataset-master/hiragana_images') #定義data_path\n",
    "for i in data_path: #對data_path裡所有資料\n",
    "    label = i.replace(\".jpg\",\"\").strip('0123456789') #把label掐頭去尾\n",
    "    if not os.path.exists('C:/Users/bymin/OneDrive/桌面/pytorch/hiragana-dataset-master/process'): #製作 process 資料夾，存放資料分類\n",
    "        os.mkdir('C:/Users/bymin/OneDrive/桌面/pytorch/hiragana-dataset-master/process')\n",
    "        \n",
    "    data = 'C:/Users/bymin/OneDrive/桌面/pytorch/hiragana-dataset-master/process/'+ label\n",
    "    if not os.path.exists(data): #找這label的資料夾是否存在 否則新增資料夾\n",
    "        os.mkdir(data)\n",
    "        \n",
    "    data_src = 'C:/Users/bymin/OneDrive/桌面/pytorch/hiragana-dataset-master/hiragana_images/' + i \n",
    "    data_copy =  data + \"/\" + i\n",
    "    shutil.copy(data_src, data_copy) #複製資料"
   ]
  },
  {
   "cell_type": "code",
   "execution_count": 3,
   "metadata": {},
   "outputs": [
    {
     "name": "stdout",
     "output_type": "stream",
     "text": [
      "2.5.1+cu124\n",
      "cuda\n"
     ]
    }
   ],
   "source": [
    "print(torch.__version__)\n",
    "device = torch.device(\"cuda\" if torch.cuda.is_available() else \"cpu\")\n",
    "# device = torch.device(\"cpu\")\n",
    "print(device)\n",
    "\n",
    "##超參數\n",
    "batch_size = 32 #批次大小\n",
    "lr = 0.001 #學習率\n",
    "num_epochs = 10 #代數"
   ]
  },
  {
   "cell_type": "code",
   "execution_count": 4,
   "metadata": {},
   "outputs": [],
   "source": [
    "class AddGaussianNoise(object):\n",
    "    \"\"\"在影像中加入高斯雜訊\n",
    "    \n",
    "    參數:\n",
    "        mean (float): 高斯雜訊的均值\n",
    "        std  (float): 高斯雜訊的標準差\n",
    "        p    (float): 有多大機率對影像做此增強\n",
    "    \"\"\"\n",
    "    def __init__(self, mean=0., std=1., p=0.5):\n",
    "        self.mean = mean\n",
    "        self.std = std\n",
    "        self.p = p\n",
    "\n",
    "    def __call__(self, img):\n",
    "        if random.random() < self.p: # 先以機率 p 判斷要不要施加雜訊\n",
    "            if isinstance(img, Image.Image): # 轉成 Tensor (若原本還是 PIL Image)\n",
    "                img = transforms.ToTensor()(img)  # shape: [C, H, W]\n",
    "            noise = torch.randn(img.size()) * self.std + self.mean # 加入高斯雜訊\n",
    "            img = img + noise\n",
    "            img = torch.clamp(img, 0., 1.) # clip 到 [0,1] 區間，確保像素值合理 (可依需求調整)\n",
    "            img = transforms.ToPILImage()(img) # 若需要再轉回 PIL 就執行\n",
    "        return img\n",
    "\n",
    "    def __repr__(self):\n",
    "        return f\"{self.__class__.__name__}(mean={self.mean}, std={self.std}, p={self.p})\"\n",
    "    \n",
    "class Addblur(object):\n",
    "    def __init__(self, p=0.5,blur=\"normal\"):\n",
    "        #  self.density = density\n",
    "        self.p = p\n",
    "        self.blur= blur\n",
    "\n",
    "    def __call__(self, img):\n",
    "        if random.uniform(0, 1) < self.p:  # 概率的判断\n",
    "       \t\t#標準模糊\n",
    "            if self.blur== \"normal\":\n",
    "                img = img.filter(ImageFilter.BLUR)\n",
    "                return img\n",
    "            #高斯模糊\n",
    "            if self.blur== \"Gaussian\":\n",
    "                img = img.filter(ImageFilter.GaussianBlur)\n",
    "                return img\n",
    "            #均值模糊\n",
    "            if self.blur== \"mean\":\n",
    "                img = img.filter(ImageFilter.BoxBlur)\n",
    "                return img\n",
    "        else:\n",
    "            return img\n",
    "        \n",
    "class InvertColors(object):\n",
    "    def __init__(self, p=0.5):\n",
    "        self.p = p\n",
    "\n",
    "    def __call__(self, img):\n",
    "        if random.random() < self.p:# 若隨機數小於 p 則反轉顏色\n",
    "            img = ImageOps.invert(img) # 若是灰階或 RGB，直接反轉\n",
    "        return img\n",
    "\n",
    "    def __repr__(self):\n",
    "        return f\"{self.__class__.__name__}(p={self.p})\"\n"
   ]
  },
  {
   "cell_type": "code",
   "execution_count": 5,
   "metadata": {},
   "outputs": [
    {
     "name": "stdout",
     "output_type": "stream",
     "text": [
      "3200 800\n",
      "{0: 'kanaA', 1: 'kanaBA', 2: 'kanaCHI', 3: 'kanaDA', 4: 'kanaE', 5: 'kanaFU', 6: 'kanaHA', 7: 'kanaHE', 8: 'kanaHI', 9: 'kanaHO', 10: 'kanaI', 11: 'kanaJI', 12: 'kanaKA', 13: 'kanaKE', 14: 'kanaKI', 15: 'kanaKO', 16: 'kanaKU', 17: 'kanaMA', 18: 'kanaME', 19: 'kanaMI', 20: 'kanaMO', 21: 'kanaMU', 22: 'kanaN', 23: 'kanaNA', 24: 'kanaNE', 25: 'kanaNI', 26: 'kanaNO', 27: 'kanaNU', 28: 'kanaO', 29: 'kanaPI', 30: 'kanaRA', 31: 'kanaRE', 32: 'kanaRI', 33: 'kanaRO', 34: 'kanaRU', 35: 'kanaSA', 36: 'kanaSE', 37: 'kanaSHI', 38: 'kanaSO', 39: 'kanaSU', 40: 'kanaTA', 41: 'kanaTE', 42: 'kanaTO', 43: 'kanaTSU', 44: 'kanaU', 45: 'kanaWA', 46: 'kanaWO', 47: 'kanaYA', 48: 'kanaYO', 49: 'kanaYU'}\n"
     ]
    }
   ],
   "source": [
    "from sklearn.model_selection import train_test_split\n",
    "transform = transforms.Compose([\n",
    "    transforms.Grayscale(num_output_channels=1), \n",
    "    transforms.Resize((64,64)), #\n",
    "    transforms.ToTensor(),  # shape H，W，C —> C，H，W\n",
    "    transforms.Normalize((0.1307,), (0.3081,)) # 將資料壓縮至一個範圍，例如：-1,1，這樣跑的效率會比較高\n",
    "])\n",
    "\n",
    "transformAddNoices = transforms.Compose([\n",
    "    transforms.Grayscale(num_output_channels=1), \n",
    "    transforms.Resize((64,64)), #\n",
    "    AddGaussianNoise(mean=0., std=0.3, p=1),\n",
    "    transforms.ToTensor(),  # shape H，W，C —> C，H，W\n",
    "    transforms.Normalize((0.1307,), (0.3081,)) # 將資料壓縮至一個範圍，例如：-1,1，這樣跑的效率會比較高\n",
    "])\n",
    "\n",
    "transformAddBlur = transforms.Compose([\n",
    "    transforms.Grayscale(num_output_channels=1), \n",
    "    transforms.Resize((64,64)), #\n",
    "    Addblur(p=1,blur=\"Gaussian\"),\n",
    "    transforms.ToTensor(),  # shape H，W，C —> C，H，W\n",
    "    transforms.Normalize((0.1307,), (0.3081,)) # 將資料壓縮至一個範圍，例如：-1,1，這樣跑的效率會比較高\n",
    "])\n",
    "\n",
    "transformColoeRev = transforms.Compose([\n",
    "    transforms.Grayscale(num_output_channels=1), \n",
    "    transforms.Resize((64,64)), #\n",
    "    InvertColors(p=1), \n",
    "    transforms.ToTensor(),  # shape H，W，C —> C，H，W\n",
    "    transforms.Normalize((0.1307,), (0.3081,)) # 將資料壓縮至一個範圍，例如：-1,1，這樣跑的效率會比較高\n",
    "])\n",
    "\n",
    "datasetA = datasets.ImageFolder(root='C:/Users/bymin/OneDrive/桌面/pytorch/hiragana-dataset-master/process', transform=transform) #使用ImageFolder加載資料集\n",
    "datasetB = datasets.ImageFolder(root='C:/Users/bymin/OneDrive/桌面/pytorch/hiragana-dataset-master/process', transform=transformAddNoices) #使用ImageFolder加載資料集 套用高斯噪點\n",
    "datasetC = datasets.ImageFolder(root='C:/Users/bymin/OneDrive/桌面/pytorch/hiragana-dataset-master/process', transform=transformAddBlur) #使用ImageFolder加載資料集 套用模糊\n",
    "datasetD = datasets.ImageFolder(root='C:/Users/bymin/OneDrive/桌面/pytorch/hiragana-dataset-master/process', transform=transformColoeRev) #使用ImageFolder加載資料集 套用模糊\n",
    "dataset = torch.utils.data.ConcatDataset([datasetA, datasetB, datasetC, datasetD])\n",
    "train_data, test_data = train_test_split(dataset, test_size=0.2, random_state=42) #sklearn分割資料集 train:test 8:2 random_state=42：設定隨機種子，保證每次分割的結果一致。\n",
    "print(len(train_data), len(test_data))\n",
    "\n",
    "train_loader = torch.utils.data.DataLoader(train_data, batch_size=batch_size, shuffle=True) #shuffle=True 隨機打散資料集\n",
    "test_loader = torch.utils.data.DataLoader(test_data, batch_size=batch_size, shuffle=False)\n",
    "\n",
    "label_dict = datasetA.class_to_idx #生出 label:index 的字典\n",
    "reverse_label_dict = {v: k for k, v in label_dict.items()} #原始字典 label_dict 的key值對交換後生成一個新的字典 reverse_label_dict\n",
    "print(reverse_label_dict)\n"
   ]
  },
  {
   "cell_type": "code",
   "execution_count": 6,
   "metadata": {},
   "outputs": [
    {
     "name": "stdout",
     "output_type": "stream",
     "text": [
      "Cnn(\n",
      "  (conv1): Conv2d(1, 64, kernel_size=(3, 3), stride=(1, 1))\n",
      "  (conv2): Conv2d(64, 128, kernel_size=(3, 3), stride=(1, 1))\n",
      "  (conv3): Conv2d(128, 256, kernel_size=(3, 3), stride=(1, 1))\n",
      "  (pool): MaxPool2d(kernel_size=2, stride=2, padding=0, dilation=1, ceil_mode=False)\n",
      "  (fc1): Linear(in_features=9216, out_features=512, bias=True)\n",
      "  (fc2): Linear(in_features=512, out_features=50, bias=True)\n",
      ")\n"
     ]
    }
   ],
   "source": [
    "class Cnn(nn.Module):\n",
    "    def __init__(self):\n",
    "        super(Cnn, self).__init__()\n",
    "        self.conv1 = nn.Conv2d(in_channels=1, out_channels=64, kernel_size=3, stride=1, padding=0)\n",
    "        self.conv2 = nn.Conv2d(in_channels=64, out_channels=128, kernel_size=3, stride=1, padding=0)\n",
    "        self.conv3 = nn.Conv2d(in_channels=128, out_channels=256, kernel_size=3, stride=1, padding=0)\n",
    "        \n",
    "        self.pool = nn.MaxPool2d(kernel_size=2, stride=2)\n",
    "        \n",
    "        self.fc1 = nn.Linear(256*6*6, 512) #第一層全連接層 輸入256*8*8 輸出512\n",
    "        self.fc2 = nn.Linear(512, 50) #第二層全連接層 輸入512 輸出50個類別\n",
    "        \n",
    "    def forward(self, x): #\n",
    "        x = self.pool(F.relu(self.conv1(x))) # 卷積 -> sigmoid -> 池化 84 -> conv1 -> 82 -> pool -> 41\n",
    "        x = self.pool(F.relu(self.conv2(x))) # 41 -> conv2 -> 39 -> pool -> 19\n",
    "        x = self.pool(F.relu(self.conv3(x))) # 19 -> conv3 -> 17 -> pool -> 8\n",
    "        # print(x.shape) #此時x.shape = (batch_size, 256, 8, 8)\n",
    "        x = x.view(-1, 256*6*6) #圖像攤平成一個向量 (batch_size, 256個維度*(8*8)個像素) -1讓 PyTorch 自動推斷 batch 大小\n",
    "        x = F.relu(self.fc1(x)) #將x 丟進fc1後 應用relu激活函數\n",
    "        x = self.fc2(x) #將x丟進fc2\n",
    "        \n",
    "        return x #這邊輸出x不做softmax的訓練結果較好\n",
    "    \n",
    "model = Cnn()\n",
    "model = model.to(device)\n",
    "print(model)\n",
    "\n",
    "## 優化器\n",
    "# optimizer = torch.optim.SGD(model.parameters(), lr=lr)\n",
    "# optimizer = torch.optim.Adam(model.parameters(), lr=lr)\n",
    "optimizer = torch.optim.AdamW(model.parameters(), lr=lr)\n",
    "# optimizer = torch.optim.Adagrad(model.parameters(), lr=lr)\n",
    "\n",
    "# criterion = nn.MSELoss().to(device)\n",
    "# criterion = nn.L1Loss().to(device)\n",
    "# criterion = nn.BCELoss().to(device)\n",
    "criterion = nn.CrossEntropyLoss().to(device)  #交叉商"
   ]
  },
  {
   "cell_type": "markdown",
   "metadata": {},
   "source": [
    "### resnet "
   ]
  },
  {
   "cell_type": "code",
   "execution_count": null,
   "metadata": {},
   "outputs": [],
   "source": []
  },
  {
   "cell_type": "code",
   "execution_count": 7,
   "metadata": {},
   "outputs": [
    {
     "name": "stdout",
     "output_type": "stream",
     "text": [
      "Epoch[1/10] loss: 1.8410458939522505, acc: 0.5303125\n",
      "Epoch[2/10] loss: 0.10134735882980749, acc: 0.97375\n",
      "Epoch[3/10] loss: 0.03402058560168371, acc: 0.9896875\n",
      "Epoch[4/10] loss: 0.013112584508198778, acc: 0.9971875\n",
      "Epoch[5/10] loss: 0.013549964509220445, acc: 0.9959375\n",
      "Epoch[6/10] loss: 0.019817813357512933, acc: 0.9965625\n",
      "Epoch[7/10] loss: 0.026538779825277744, acc: 0.9925\n",
      "Epoch[8/10] loss: 0.01886079987110861, acc: 0.994375\n",
      "Epoch[9/10] loss: 0.03831870631678612, acc: 0.9896875\n",
      "Epoch[10/10] loss: 0.05433442548470339, acc: 0.9846875\n"
     ]
    }
   ],
   "source": [
    "def accuracy(pred: torch.Tensor, label: torch.Tensor):\n",
    "  \n",
    "  _, pred_label = pred.max(1) # pred.max(1) 取得每筆資料預測機率最高的類別索引\n",
    "  num_correct = (pred_label == label).sum().item() \n",
    "  acc = num_correct / label.shape[0] # 準確度 = 正確預測數量 / 總樣本數\n",
    "  return acc\n",
    "\n",
    "\n",
    "metric = {'loss': [], 'acc': []}\n",
    "for i_epoch in range(num_epochs):\n",
    "  train_loss = [] #宣告train的loss\n",
    "  train_acc = [] #宣告train的acc\n",
    "  model.train(mode=True) #模型轉為訓練模式\n",
    "  for i_batch, (image, label) in enumerate(train_loader): #迭代每個batch \n",
    "    image = image.to(device) #圖片丟進gpu\n",
    "    # print(image.shape)\n",
    "    # print(label.min(), label.max())\n",
    "    label = label.to(device) #label丟進gpu\n",
    "\n",
    "    pred = model.forward(image) #預測pred 將圖片丟進模型 模型輸出的(未經 softmax) 形狀(batch_size, num_classes)\n",
    "    loss = criterion(pred, label) #使用 CrossEntropyLoss，計算此次 batch 的 loss，將 pred 與 label 做比較\n",
    "\n",
    "    optimizer.zero_grad()  #上一輪的梯度歸零\n",
    "    loss.backward() # 反向傳播 計算梯度\n",
    "    optimizer.step() #optimizer進行參數更新\n",
    "\n",
    "    train_loss += [loss.item()] #將該 batch 的損失記錄到 train_loss 清單\n",
    "    train_acc += [accuracy(pred, label)] #計算該 batch 的準確度，並記錄到 train_acc 清單\n",
    "  metric['loss'] += [sum(train_loss)/ len(train_loader)] #統計當前 epoch 所有 batch 的平均 loss\n",
    "  metric['acc'] += [sum(train_acc)/ len(train_loader)] #統計當前 epoch 所有 batch 的平均 acc\n",
    "  print(f'Epoch[{i_epoch+1}/{num_epochs}] loss: {metric[\"loss\"][-1]}, acc: {metric[\"acc\"][-1]}')"
   ]
  },
  {
   "cell_type": "code",
   "execution_count": 8,
   "metadata": {},
   "outputs": [
    {
     "data": {
      "image/png": "[encoded data removed]",
      "text/plain": [
       "<Figure size 400x300 with 1 Axes>"
      ]
     },
     "metadata": {},
     "output_type": "display_data"
    },
    {
     "data": {
      "image/png": "[encoded data removed]",
      "text/plain": [
       "<Figure size 400x300 with 1 Axes>"
      ]
     },
     "metadata": {},
     "output_type": "display_data"
    }
   ],
   "source": [
    "import matplotlib.pyplot as plt\n",
    "\n",
    "epochs = range(1, num_epochs+1)\n",
    "\n",
    "plt.figure(figsize=(4, 3))\n",
    "plt.plot(epochs, metric['loss'], label='Train Loss')\n",
    "plt.xlabel('Epoch')\n",
    "plt.ylabel('Loss')\n",
    "plt.title('Training Loss')\n",
    "plt.legend()\n",
    "plt.grid(True)\n",
    "plt.show()\n",
    "\n",
    "# Plot Accuracy\n",
    "plt.figure(figsize=(4, 3))\n",
    "plt.plot(epochs, metric['acc'], label='Train Acc')\n",
    "plt.xlabel('Epoch')\n",
    "plt.ylabel('Accuracy')\n",
    "plt.title('Training Accuracy')\n",
    "plt.legend()\n",
    "plt.grid(True)\n",
    "plt.show()\n"
   ]
  },
  {
   "cell_type": "code",
   "execution_count": 9,
   "metadata": {},
   "outputs": [
    {
     "name": "stdout",
     "output_type": "stream",
     "text": [
      "Total correct: 797\n",
      "Total samples: 800\n",
      "Test Accuracy: 0.99625\n"
     ]
    }
   ],
   "source": [
    "model.eval()\n",
    "total_correct = 0\n",
    "total_samples = 0\n",
    "\n",
    "with torch.no_grad():\n",
    "    for image, label in test_loader:\n",
    "      image = image.to(device)\n",
    "      label = label.to(device)\n",
    "      pred = model.forward(image)\n",
    "      _, pred_label = pred.max(1)\n",
    "      total_correct += (pred_label == label).sum().item()\n",
    "      total_samples += label.size(0)\n",
    "\n",
    "\n",
    "print(f'Total correct: {total_correct}')\n",
    "print(f'Total samples: {total_samples}')\n",
    "test_acc = total_correct / total_samples\n",
    "print(f'Test Accuracy: {test_acc}')"
   ]
  },
  {
   "cell_type": "code",
   "execution_count": 10,
   "metadata": {},
   "outputs": [
    {
     "name": "stdout",
     "output_type": "stream",
     "text": [
      "Saved\n"
     ]
    }
   ],
   "source": [
    "from pathlib import Path\n",
    "model_path = Path('./models/model_try.pt') #模型儲存位置/檔名\n",
    "model_path.parent.mkdir(parents=True, exist_ok=True)\n",
    "torch.jit.script(model).save(model_path)\n",
    "print(\"Saved\")"
   ]
  }
 ],
 "metadata": {
  "kernelspec": {
   "display_name": "mainEnv",
   "language": "python",
   "name": "python3"
  },
  "language_info": {
   "codemirror_mode": {
    "name": "ipython",
    "version": 3
   },
   "file_extension": ".py",
   "mimetype": "text/x-python",
   "name": "python",
   "nbconvert_exporter": "python",
   "pygments_lexer": "ipython3",
   "version": "3.9.19"
  }
 },
 "nbformat": 4,
 "nbformat_minor": 2
}
