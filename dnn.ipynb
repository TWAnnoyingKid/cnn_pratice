{
 "cells": [
  {
   "cell_type": "code",
   "execution_count": 1,
   "metadata": {},
   "outputs": [],
   "source": [
    "import torch\n",
    "import torch.nn as nn #network 函式\n",
    "import torch.nn.functional as F #一些方法\n",
    "import torch.optim as optim #優化方法\n",
    "from torchvision import datasets, transforms #提供資料集 演算法\n",
    "import matplotlib.pyplot as plt #圖表"
   ]
  },
  {
   "cell_type": "code",
   "execution_count": null,
   "metadata": {},
   "outputs": [],
   "source": [
    "print(torch.__version__)\n",
    "device = torch.device(\"cuda\" if torch.cuda.is_available() else \"cpu\")\n",
    "device"
   ]
  },
  {
   "cell_type": "code",
   "execution_count": 3,
   "metadata": {},
   "outputs": [],
   "source": [
    "##超參數\n",
    "batch_size = 32 #批次大小\n",
    "lr = 0.001 #學習率\n",
    "num_epochs = 10 #代數"
   ]
  },
  {
   "cell_type": "code",
   "execution_count": null,
   "metadata": {},
   "outputs": [],
   "source": [
    "train_dataset = datasets.MNIST(root='./data', train=True, download=True, transform=None) #讀取資料集 放在 \"./data\"\n",
    "\n",
    "images, labels = zip(*[(train_dataset[i][0], train_dataset[i][1]) for i in range(5)]) #資料分割 \n",
    "\n",
    "\n",
    "fig, axes = plt.subplots(1, 5, figsize=(15, 3)) #視覺化資料\n",
    "for ax, image, label in zip(axes, images, labels):\n",
    "    ax.set_axis_off()\n",
    "    ax.imshow(image, cmap='gray')\n",
    "    ax.set_title(f'Label: {label}')\n",
    "plt.show()"
   ]
  },
  {
   "cell_type": "code",
   "execution_count": 5,
   "metadata": {},
   "outputs": [],
   "source": [
    "transform = transforms.Compose([\n",
    "    transforms.ToTensor(),  # shape H，W，C —> C，H，W\n",
    "    transforms.Resize((28,28)),\n",
    "    transforms.Normalize((0.1307,), (0.3081,)) # 將資料壓縮至一個範圍，例如：-1,1，這樣跑的效率會比較高\n",
    "])\n",
    "\n",
    "train_dataset = datasets.MNIST(root='./data', train=True, download=True, transform=transform)\n",
    "test_dataset = datasets.MNIST(root='./data', train=False, transform=transform)\n",
    "\n",
    "\n",
    "train_loader = torch.utils.data.DataLoader(train_dataset, batch_size=batch_size, shuffle=True)\n",
    "test_loader = torch.utils.data.DataLoader(test_dataset, batch_size=batch_size, shuffle=False)\n",
    "\n"
   ]
  },
  {
   "cell_type": "code",
   "execution_count": 6,
   "metadata": {},
   "outputs": [],
   "source": [
    "class DNN(nn.Module):\n",
    "    def __init__(self):\n",
    "        super(Net, self).__init__()\n",
    "        self.fc1 = nn.Linear(28*28, 400) #第一層全連接層 輸入28*28 輸出400 \n",
    "        self.fc2 = nn.Linear(400, 200) #第二層全連接層 輸入400 輸出200 \n",
    "        self.fc3 = nn.Linear(200, 10) #第二層全連接層 輸入400 輸出200 \n",
    "        \n",
    "    def forward(self, x): #\n",
    "        x = x.view(-1, 28*28) #將圖像攤平  28*28:有28*28個像素\n",
    "        x = F.sigmoid(self.fc1(x)) #將x丟進fc1後 應用sigmoid激活函數\n",
    "        x = F.sigmoid(self.fc2(x)) #將x丟進fc2後 應用sigmoid激活函數\n",
    "        x = self.fc3(x) #將x丟進fc3\n",
    "        \n",
    "        return F.softmax(x, dim=1) #輸出x經過softmax後的結果\n",
    "    \n",
    "model = DNN()\n",
    "model = model.to(device)\n",
    "\n",
    "## 優化器\n",
    "# optimizer = torch.optim.SGD(model.parameters(), lr=LR)\n",
    "optimizer = torch.optim.Adam(model.parameters(), lr=lr)\n",
    "# optimizer = torch.optim.AdamW(model.parameters(), lr=LR)\n",
    "# optimizer = torch.optim.Adagrad(model.parameters(), lr=LR)\n",
    "\n",
    "# criterion = nn.MSELoss().to(device)\n",
    "# criterion = nn.L1Loss().to(device)\n",
    "# criterion = nn.BCELoss().to(device)\n",
    "criterion = nn.CrossEntropyLoss().to(device)  #交叉商"
   ]
  },
  {
   "cell_type": "code",
   "execution_count": null,
   "metadata": {},
   "outputs": [],
   "source": [
    "def accuracy(pred: torch.Tensor, label: torch.Tensor):\n",
    "  _, pred_label = pred.max(1)\n",
    "  num_correct = (pred_label == label).sum().item()\n",
    "  acc = num_correct / label.shape[0]\n",
    "  return acc\n",
    "\n",
    "\n",
    "metric = {'loss': [], 'acc': []}\n",
    "for i_epoch in range(num_epochs):\n",
    "  train_loss = [] #宣告train的loss\n",
    "  train_acc = [] #宣告train的acc\n",
    "  model.train(mode=True) #模型轉為訓練模式\n",
    "  for i_batch, (image, label) in enumerate(train_loader): #迭代每個batch \n",
    "    image = image.to(device) #圖片丟進gpu\n",
    "    label = label.to(device) #label丟進gpu\n",
    "\n",
    "    pred = model.forward(image) #預測pred 將圖片丟進模型\n",
    "    loss = criterion(pred, label)\n",
    "\n",
    "    optimizer.zero_grad()\n",
    "    loss.backward()\n",
    "    optimizer.step()\n",
    "\n",
    "    train_loss += [loss.item()]\n",
    "    train_acc += [accuracy(pred, label)]\n",
    "  metric['loss'] += [sum(train_loss)/ len(train_loader)]\n",
    "  metric['acc'] += [sum(train_acc)/ len(train_loader)]\n",
    "  print(f'Epoch[{i_epoch+1}/{num_epochs}] loss: {metric[\"loss\"][-1]}, acc: {metric[\"acc\"][-1]}')"
   ]
  },
  {
   "cell_type": "code",
   "execution_count": null,
   "metadata": {},
   "outputs": [],
   "source": [
    "plt.figure(figsize=(10, 5)) #新增10*5畫面\n",
    "plt.plot(range(1,num_epochs+1),metric['loss'], label='Training Loss') #點圖 \n",
    "plt.xlabel('Epoch')\n",
    "plt.ylabel('Loss')\n",
    "plt.title('Training Loss Over Time')\n",
    "plt.legend() #線條\n",
    "plt.show()"
   ]
  },
  {
   "cell_type": "code",
   "execution_count": null,
   "metadata": {},
   "outputs": [],
   "source": [
    "model.eval()\n",
    "total_correct = 0\n",
    "total_samples = 0\n",
    "\n",
    "with torch.no_grad():\n",
    "    for image, label in test_loader:\n",
    "      image = image.to(device)\n",
    "      label = label.to(device)\n",
    "      pred = model.forward(image)\n",
    "      _, pred_label = pred.max(1)\n",
    "      total_correct += (pred_label == label).sum().item()\n",
    "      total_samples += label.size(0)\n",
    "\n",
    "\n",
    "print(f'Total correct: {total_correct}')\n",
    "print(f'Total samples: {total_samples}')\n",
    "test_acc = total_correct / total_samples\n",
    "print(f'Test Accuracy: {test_acc}')"
   ]
  },
  {
   "cell_type": "code",
   "execution_count": null,
   "metadata": {},
   "outputs": [],
   "source": [
    "from pathlib import Path\n",
    "from PIL import Image\n",
    "import torch\n",
    "\n",
    "\n",
    "image = Image.open(r'/content/0.png')\n",
    "\n",
    "\n",
    "transform = transforms.Compose([\n",
    "    transforms.Lambda(lambda x: x.convert('RGB')),\n",
    "    transforms.ToTensor(),  # shape H，W，C —> C，H，W\n",
    "    transforms.Resize((28,28)),\n",
    "    transforms.Grayscale(),\n",
    "    transforms.Lambda(lambda x: 1.0 - x)\n",
    "    #transforms.Normalize((0.1307,), (0.3081,)) # -1,1\n",
    "])\n",
    "\n",
    "transformed_image = transform(image).unsqueeze(0)\n",
    "\n",
    "model.eval()\n",
    "with torch.no_grad():\n",
    "\n",
    "    outputs = model(transformed_image.to(device))\n",
    "    print(outputs)\n",
    "\n",
    "    _, predicted = torch.max(outputs, 1)\n",
    "    print(predicted)\n",
    "\n",
    "\n",
    "image"
   ]
  },
  {
   "cell_type": "code",
   "execution_count": null,
   "metadata": {},
   "outputs": [],
   "source": [
    "from pathlib import Path\n",
    "model_path = Path('./models/model_dnn.pt')\n",
    "model_path.parent.mkdir(parents=True, exist_ok=True)\n",
    "torch.jit.script(model).save(model_path)\n"
   ]
  }
 ],
 "metadata": {
  "kernelspec": {
   "display_name": "mainEnv",
   "language": "python",
   "name": "python3"
  },
  "language_info": {
   "codemirror_mode": {
    "name": "ipython",
    "version": 3
   },
   "file_extension": ".py",
   "mimetype": "text/x-python",
   "name": "python",
   "nbconvert_exporter": "python",
   "pygments_lexer": "ipython3",
   "version": "3.9.19"
  }
 },
 "nbformat": 4,
 "nbformat_minor": 2
}
